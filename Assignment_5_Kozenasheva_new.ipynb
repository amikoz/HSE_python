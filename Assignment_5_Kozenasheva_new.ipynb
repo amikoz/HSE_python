{
 "cells": [
  {
   "cell_type": "markdown",
   "metadata": {},
   "source": [
    "# Assignment 5\n",
    "\n",
    "Explore embeddings and CNN\n",
    "\n",
    "Using tweeter dataset ( https://www.kaggle.com/utathya/sentiment-analysis-of-imdb-reviews/data) and already existing splitting on train/test sets, develop a model for sentiment analysis.  \n",
    "Your quality metric is crossentropy (`sklearn.metrics.log_loss`, `torch.nn.CrossEntropy`)  \n",
    "\n",
    "Your model should be based on CNN and written in pytorch `torch.nn.Conv1d`.\n",
    "\n",
    "Explore 3 ways, which of them has better perfomance on test set?:\n",
    "1. Using pretrained word embeddings with frozen weights. `torch.nn.Embedding.from_pretrained(embed_matrix, frozen=True)`.\n",
    "You can download any pretrained embeddings you like.\n",
    "2. Train embeddings yourself, initializing from pretrained weights. `torch.nn.Embedding.from_pretrained(embed_matrix, frozen=False)`\n",
    "3. Train embeddings yourself with random initialization `torch.nn.init.uniform_(nn.Embeddings.weights)`\n",
    "\n",
    "Experiment with model arhitecture (as bonus):\n",
    "1. activation functions RELU, ELU, etc `torch.nn.functional.relu, torch.nn.functional.elu`  \n",
    "1. Stack layers\n",
    "1. max or average pooling (`torch.nn.functional.max_pool1d, torch.nn.functional.avg_pool1d`)\n",
    "1. Dropout\n",
    "\n",
    "\n",
    "Other requirements:\n",
    "1. Your training routine should use any learning scheduler (torch.nn.optim.lr_scheduler).  \n",
    "Plot current learning rate against number of epochs, e.g. `tt.optim.Adam.param_groups[0]['lr']`.  \n",
    "\n",
    "1. Your training routine should use early stopping on validation dataset\n",
    "Use hold out validation scheme in your experiments.\n",
    "\n",
    "1. You should use torchtext for parsing \n",
    "\n",
    "**Note**:\n",
    "This assignment has no baseline. Instead, **validation curves** for explored architectures are expected.  \n",
    "Validation curve is plot of model test score against model hyperparameter value.  \n",
    "example (https://scikit-learn.org/stable/auto_examples/model_selection/plot_validation_curve.html) . \n",
    "Though, using `sklearn.model_selection.validation_curve` is not necessary.  \n",
    "\n",
    "\n",
    "\n",
    "\n",
    "\n"
   ]
  },
  {
   "cell_type": "code",
   "execution_count": 1,
   "metadata": {},
   "outputs": [],
   "source": [
    "import pandas as pd\n",
    "import numpy as np\n",
    "from sklearn.externals import joblib\n",
    "import nltk\n",
    "import gensim\n",
    "import spacy\n",
    "\n",
    "from sklearn import metrics\n",
    "\n",
    "import torch as tt\n",
    "import torch.nn as nn\n",
    "import torch.nn.functional as F\n",
    "import torch.optim as optim\n",
    "\n",
    "from torchtext.data import Field, LabelField, BucketIterator, TabularDataset, Iterator\n",
    "\n",
    "\n",
    "\n",
    "SEED = 42\n",
    "np.random.seed(SEED)"
   ]
  },
  {
   "cell_type": "code",
   "execution_count": 2,
   "metadata": {},
   "outputs": [],
   "source": [
    "spacy_en = spacy.load('en')\n",
    "\n",
    "def tokenizer(text): # create a tokenizer function\n",
    "    return [tok.text for tok in spacy_en.tokenizer(text) if tok.text.isalpha()]"
   ]
  },
  {
   "cell_type": "code",
   "execution_count": 3,
   "metadata": {},
   "outputs": [],
   "source": [
    "df = pd.read_csv(r'imdb_master.csv', encoding='latin-1', index_col = 0)"
   ]
  },
  {
   "cell_type": "code",
   "execution_count": 4,
   "metadata": {},
   "outputs": [
    {
     "data": {
      "text/html": [
       "<div>\n",
       "<style scoped>\n",
       "    .dataframe tbody tr th:only-of-type {\n",
       "        vertical-align: middle;\n",
       "    }\n",
       "\n",
       "    .dataframe tbody tr th {\n",
       "        vertical-align: top;\n",
       "    }\n",
       "\n",
       "    .dataframe thead th {\n",
       "        text-align: right;\n",
       "    }\n",
       "</style>\n",
       "<table border=\"1\" class=\"dataframe\">\n",
       "  <thead>\n",
       "    <tr style=\"text-align: right;\">\n",
       "      <th></th>\n",
       "      <th>type</th>\n",
       "      <th>review</th>\n",
       "      <th>label</th>\n",
       "      <th>file</th>\n",
       "    </tr>\n",
       "  </thead>\n",
       "  <tbody>\n",
       "    <tr>\n",
       "      <th>0</th>\n",
       "      <td>test</td>\n",
       "      <td>Once again Mr. Costner has dragged out a movie...</td>\n",
       "      <td>neg</td>\n",
       "      <td>0_2.txt</td>\n",
       "    </tr>\n",
       "    <tr>\n",
       "      <th>1</th>\n",
       "      <td>test</td>\n",
       "      <td>This is an example of why the majority of acti...</td>\n",
       "      <td>neg</td>\n",
       "      <td>10000_4.txt</td>\n",
       "    </tr>\n",
       "    <tr>\n",
       "      <th>2</th>\n",
       "      <td>test</td>\n",
       "      <td>First of all I hate those moronic rappers, who...</td>\n",
       "      <td>neg</td>\n",
       "      <td>10001_1.txt</td>\n",
       "    </tr>\n",
       "    <tr>\n",
       "      <th>3</th>\n",
       "      <td>test</td>\n",
       "      <td>Not even the Beatles could write songs everyon...</td>\n",
       "      <td>neg</td>\n",
       "      <td>10002_3.txt</td>\n",
       "    </tr>\n",
       "    <tr>\n",
       "      <th>4</th>\n",
       "      <td>test</td>\n",
       "      <td>Brass pictures (movies is not a fitting word f...</td>\n",
       "      <td>neg</td>\n",
       "      <td>10003_3.txt</td>\n",
       "    </tr>\n",
       "  </tbody>\n",
       "</table>\n",
       "</div>"
      ],
      "text/plain": [
       "   type                                             review label         file\n",
       "0  test  Once again Mr. Costner has dragged out a movie...   neg      0_2.txt\n",
       "1  test  This is an example of why the majority of acti...   neg  10000_4.txt\n",
       "2  test  First of all I hate those moronic rappers, who...   neg  10001_1.txt\n",
       "3  test  Not even the Beatles could write songs everyon...   neg  10002_3.txt\n",
       "4  test  Brass pictures (movies is not a fitting word f...   neg  10003_3.txt"
      ]
     },
     "execution_count": 4,
     "metadata": {},
     "output_type": "execute_result"
    }
   ],
   "source": [
    "df.head()"
   ]
  },
  {
   "cell_type": "code",
   "execution_count": 5,
   "metadata": {},
   "outputs": [],
   "source": [
    "df[df['type'] == 'test'].to_csv(r'test.csv', encoding='utf-8')\n",
    "df[df['type'] == 'train'].to_csv(r'train.csv', encoding='utf-8')"
   ]
  },
  {
   "cell_type": "code",
   "execution_count": 6,
   "metadata": {},
   "outputs": [],
   "source": [
    "classes={\n",
    "    'neg':0,\n",
    "    'unsup':1,\n",
    "    'pos':2\n",
    "}\n",
    "\n",
    "TEXT = Field(include_lengths=True, batch_first=True, \n",
    "             tokenize=tokenizer,\n",
    "             eos_token='<eos>',\n",
    "             lower=True,\n",
    "             stop_words=nltk.corpus.stopwords.words('english'))\n",
    "LABEL = LabelField(dtype=tt.int64, use_vocab=True, preprocessing=lambda x: classes[x])\n",
    "\n",
    "train = TabularDataset('train.csv', format='csv',\n",
    "                         fields=[(None, None), (None, None),('text', TEXT), ('label', LABEL), (None, None)], \n",
    "                         skip_header=True)\n",
    "\n",
    "test = TabularDataset('test.csv', format='csv',\n",
    "                         fields=[(None, None), (None, None),('text', TEXT), ('label', LABEL), (None, None)], \n",
    "                         skip_header=True)"
   ]
  },
  {
   "cell_type": "code",
   "execution_count": 7,
   "metadata": {},
   "outputs": [
    {
     "data": {
      "text/plain": [
       "46317"
      ]
     },
     "execution_count": 7,
     "metadata": {},
     "output_type": "execute_result"
    }
   ],
   "source": [
    "TEXT.build_vocab(train, min_freq=5, vectors=\"glove.6B.100d\")\n",
    "len(TEXT.vocab.itos)"
   ]
  },
  {
   "cell_type": "code",
   "execution_count": 8,
   "metadata": {},
   "outputs": [
    {
     "data": {
      "text/plain": [
       "['<unk>',\n",
       " '<pad>',\n",
       " '<eos>',\n",
       " 'movie',\n",
       " 'film',\n",
       " 'one',\n",
       " 'like',\n",
       " 'good',\n",
       " 'would',\n",
       " 'even']"
      ]
     },
     "execution_count": 8,
     "metadata": {},
     "output_type": "execute_result"
    }
   ],
   "source": [
    "TEXT.vocab.itos[:10]"
   ]
  },
  {
   "cell_type": "code",
   "execution_count": 9,
   "metadata": {},
   "outputs": [],
   "source": [
    "LABEL.build_vocab(train)"
   ]
  },
  {
   "cell_type": "code",
   "execution_count": 10,
   "metadata": {},
   "outputs": [],
   "source": [
    "train, valid = train.split(0.7, stratified=True)"
   ]
  },
  {
   "cell_type": "code",
   "execution_count": 11,
   "metadata": {},
   "outputs": [],
   "source": [
    "class CNN(nn.Module):\n",
    "    \n",
    "    def __init__(self, vocab_size, embed_size, embed_matrix, hidden_size, kernels, mode):\n",
    "        super(CNN, self).__init__()\n",
    "        if mode == 'pretrained':\n",
    "            self.embedding = nn.Embedding.from_pretrained(embed_matrix, freeze=True)\n",
    "        elif mode == 'weights':\n",
    "            self.embedding = nn.Embedding.from_pretrained(embed_matrix, freeze=False)\n",
    "        elif mode == 'random':\n",
    "            self.embedding = nn.Embedding.from_pretrained(nn.init.uniform_(tt.ones((vocab_size,100))), freeze=False)\n",
    "            \n",
    "        self.convs = nn.ModuleList([nn.Conv1d(embed_size, hidden_size, k, padding=5) for k in kernels])\n",
    "        \n",
    "        self.fc = nn.Linear(hidden_size * len(kernels), 3)\n",
    "        \n",
    "    def forward(self, x):\n",
    "        \n",
    "        x = self.embedding(x)\n",
    "        x = x.transpose(1,2)\n",
    "        \n",
    "        concatenated = []\n",
    "        for conv in self.convs:\n",
    "            z = conv(x)\n",
    "            z = F.avg_pool1d(z, kernel_size=z.size(2))\n",
    "            z = z.squeeze(2)\n",
    "            concatenated.append(z)\n",
    "            \n",
    "        x = tt.cat(concatenated, 1)\n",
    "        x = self.fc(x)\n",
    "        return x"
   ]
  },
  {
   "cell_type": "code",
   "execution_count": 24,
   "metadata": {},
   "outputs": [],
   "source": [
    "class MyModel:\n",
    "    def __init__(self, model, train_iterator, test_iterator, valid_iterator):\n",
    "        self.model = model\n",
    "        self.train_iterator = train_iterator\n",
    "        self.test_iterator = test_iterator\n",
    "        self.valid_iterator = valid_iterator\n",
    "        \n",
    "        self.optimizer = optim.Adam(self.model.parameters())\n",
    "        self.scheduler = optim.lr_scheduler.ReduceLROnPlateau(self.optimizer, patience=5, verbose=True, cooldown=5)\n",
    "        self.criterion = nn.CrossEntropyLoss()\n",
    "        \n",
    "    def train(self, n_epochs):\n",
    "        min_loss = np.inf\n",
    "        early_stop = 0\n",
    "        learning_rate = []\n",
    "        \n",
    "        for i in range(n_epochs):\n",
    "            train_loss = 0\n",
    "            \n",
    "            for batch in self.train_iterator:\n",
    "                self.optimizer.zero_grad()\n",
    "                y_pred = self.model.forward(batch.text[0])\n",
    "                loss = self.criterion(y_pred, batch.label)\n",
    "                train_loss += loss\n",
    "                loss.backward()\n",
    "                self.optimizer.step()\n",
    "                \n",
    "            train_loss = train_loss / len(self.train_iterator)         \n",
    "            test_loss = 0\n",
    "            \n",
    "            with tt.no_grad():\n",
    "                for batch in self.test_iterator:\n",
    "                    test_pred = self.model.forward(batch.text[0])\n",
    "                    loss = self.criterion(test_pred, batch.label)\n",
    "                    test_loss += loss\n",
    "            \n",
    "            test_loss = test_loss / len(self.test_iterator)           \n",
    "            self.scheduler.step(test_loss)\n",
    "            learning_rate.append(self.optimizer.param_groups[0]['lr'])\n",
    "            \n",
    "            if test_loss < min_loss:\n",
    "                min_loss = test_loss\n",
    "                early_stop = 0\n",
    "            elif early_stop < 10:\n",
    "                early_stop += 1\n",
    "            else:\n",
    "                break\n",
    "                \n",
    "            print('Epoch %s: train loss - %s, test_loss - %s' % (str(i), float(train_loss), float(test_loss)))\n",
    "                \n",
    "        return learning_rate\n",
    "    \n",
    "    def evaluate(self, mode):\n",
    "        total_loss = 0\n",
    "        \n",
    "        with tt.no_grad():\n",
    "            for batch in self.valid_iterator:\n",
    "                y_pred = self.model.forward(batch.text[0])\n",
    "                loss = self.criterion(y_pred, batch.label)\n",
    "                total_loss += loss\n",
    "                \n",
    "        print('%s loss: %s' % (mode, float(total_loss / len(self.valid_iterator))))\n",
    "                    \n",
    "        return float(total_loss / len(self.valid_iterator))"
   ]
  },
  {
   "cell_type": "code",
   "execution_count": 22,
   "metadata": {},
   "outputs": [],
   "source": [
    "tt.cuda.empty_cache()\n",
    "\n",
    "batch_size = 32\n",
    "\n",
    "train_iterator, valid_iterator, test_iterator = BucketIterator.splits(\n",
    "    (train, valid, test),\n",
    "    batch_sizes=(batch_size, batch_size, batch_size),\n",
    "    shuffle=True,\n",
    "    sort_key=lambda x: len(x.text)\n",
    ")"
   ]
  },
  {
   "cell_type": "code",
   "execution_count": 26,
   "metadata": {},
   "outputs": [
    {
     "name": "stdout",
     "output_type": "stream",
     "text": [
      "Epoch 0: train loss - 0.8637376427650452, test_loss - 1.2578479051589966\n",
      "Epoch 1: train loss - 0.7609472870826721, test_loss - 1.6310479640960693\n",
      "Epoch 2: train loss - 0.7008785009384155, test_loss - 1.417634129524231\n",
      "Epoch 3: train loss - 0.6330395340919495, test_loss - 2.08035945892334\n",
      "Epoch 4: train loss - 0.5702682137489319, test_loss - 3.4332408905029297\n",
      "random loss: 1.5903353691101074\n",
      " Test Loss: 1.590\n",
      "Epoch 0: train loss - 0.8291342854499817, test_loss - 1.3246499300003052\n",
      "Epoch 1: train loss - 0.8143865466117859, test_loss - 1.5120059251785278\n",
      "Epoch 2: train loss - 0.8130980730056763, test_loss - 1.6302101612091064\n",
      "Epoch 3: train loss - 0.8101744651794434, test_loss - 1.824271559715271\n",
      "Epoch 4: train loss - 0.8111647963523865, test_loss - 1.690543293952942\n",
      "pretrained loss: 0.9871635437011719\n",
      " Test Loss: 0.987\n",
      "Epoch 0: train loss - 0.7934651970863342, test_loss - 1.2576520442962646\n",
      "Epoch 1: train loss - 0.6382262110710144, test_loss - 2.31744647026062\n",
      "Epoch 2: train loss - 0.48466792702674866, test_loss - 4.153252601623535\n",
      "Epoch 3: train loss - 0.3817136585712433, test_loss - 7.291191577911377\n",
      "Epoch 4: train loss - 0.3120886981487274, test_loss - 6.337137699127197\n",
      "weights loss: 2.7342300415039062\n",
      " Test Loss: 2.734\n"
     ]
    }
   ],
   "source": [
    "losses = list()\n",
    "lr_all = list()\n",
    "\n",
    "for mode in ['random', 'pretrained', 'weights']:\n",
    "        \n",
    "    model = CNN(vocab_size=len(TEXT.vocab.vectors),\n",
    "                     embed_size=100,\n",
    "                     hidden_size=128,\n",
    "                     kernels=[2,3,4,5],\n",
    "                     embed_matrix=TEXT.vocab.vectors,\n",
    "                     mode=mode)\n",
    "\n",
    "    trainer = MyModel(model, train_iterator, test_iterator, valid_iterator)\n",
    "    lr = trainer.train(5)\n",
    "    lr_all.append(lr)\n",
    "    \n",
    "    test_loss = trainer.evaluate(mode)\n",
    "    losses.append(test_loss)\n",
    "    \n",
    "    print(f' Test Loss: {test_loss:.3f}')"
   ]
  },
  {
   "cell_type": "code",
   "execution_count": 56,
   "metadata": {},
   "outputs": [
    {
     "data": {
      "text/plain": [
       "Text(0,0.5,'L.Rate')"
      ]
     },
     "execution_count": 56,
     "metadata": {},
     "output_type": "execute_result"
    },
    {
     "data": {
      "image/png": "[encoded data removed]",
      "text/plain": [
       "<matplotlib.figure.Figure at 0x17a259a20>"
      ]
     },
     "metadata": {},
     "output_type": "display_data"
    }
   ],
   "source": [
    "plt.plot(range(0, len(lr_all[1])), lr_all[1], label = 'pretrained', linewidth=10)\n",
    "plt.plot(range(0, len(lr_all[0])), lr_all[0], label = 'random', linewidth=5)\n",
    "plt.plot(range(0, len(lr_all[2])), lr_all[2], label = 'weights')\n",
    "\n",
    "plt.legend()\n",
    "\n",
    "plt.xlabel('Epohs')\n",
    "plt.ylabel('L.Rate')"
   ]
  },
  {
   "cell_type": "code",
   "execution_count": 57,
   "metadata": {},
   "outputs": [
    {
     "data": {
      "text/plain": [
       "Text(0,0.5,'Test Loss')"
      ]
     },
     "execution_count": 57,
     "metadata": {},
     "output_type": "execute_result"
    },
    {
     "data": {
      "image/png": "[encoded data removed]",
      "text/plain": [
       "<matplotlib.figure.Figure at 0x179f26a20>"
      ]
     },
     "metadata": {},
     "output_type": "display_data"
    }
   ],
   "source": [
    "plt.plot(['pretrained', 'random', 'weights'], [losses[1], losses[0], losses[2]])\n",
    "plt.xlabel('Type of embeddings')\n",
    "plt.ylabel('Test Loss')"
   ]
  },
  {
   "cell_type": "code",
   "execution_count": null,
   "metadata": {},
   "outputs": [],
   "source": []
  }
 ],
 "metadata": {
  "kernelspec": {
   "display_name": "Python 3",
   "language": "python",
   "name": "python3"
  },
  "language_info": {
   "codemirror_mode": {
    "name": "ipython",
    "version": 3
   },
   "file_extension": ".py",
   "mimetype": "text/x-python",
   "name": "python",
   "nbconvert_exporter": "python",
   "pygments_lexer": "ipython3",
   "version": "3.6.4"
  }
 },
 "nbformat": 4,
 "nbformat_minor": 2
}
